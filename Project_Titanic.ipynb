{
 "cells": [
  {
   "cell_type": "markdown",
   "metadata": {},
   "source": [
    "# Project 2 Submission, Rev 1\n",
    "## Data used: Titanic Data\n",
    "## Project questions\n",
    "* What factors contributed to the survival of the passengers?\n",
    "* Were the lower class passengers unfairly treated, which led to more fatality?\n",
    "* Were young childeren and women more likely to have survived the accident?\n",
    "\n",
    "## 1. Data Wrangling\n",
    "* To clean the data set, float(), int(), and str() were used in functions to assign appropriate data types to respective columns.\n",
    "* Two additional columns have been added to indicate whether the passenger had sibling/spouse or parent/child for use in later data investigation.\n",
    "* In depth analysis was performed for missing \"Age\" data."
   ]
  },
  {
   "cell_type": "code",
   "execution_count": 133,
   "metadata": {
    "collapsed": false
   },
   "outputs": [
    {
     "data": {
      "text/html": [
       "<div>\n",
       "<table border=\"1\" class=\"dataframe\">\n",
       "  <thead>\n",
       "    <tr style=\"text-align: right;\">\n",
       "      <th></th>\n",
       "      <th>Survived</th>\n",
       "      <th>Pclass</th>\n",
       "      <th>Name</th>\n",
       "      <th>Sex</th>\n",
       "      <th>Age</th>\n",
       "      <th>SibSp</th>\n",
       "      <th>Parch</th>\n",
       "      <th>Ticket</th>\n",
       "      <th>Fare</th>\n",
       "      <th>Cabin</th>\n",
       "      <th>Embarked</th>\n",
       "      <th>PID</th>\n",
       "      <th>Has_SibSp</th>\n",
       "      <th>Has_Parch</th>\n",
       "    </tr>\n",
       "  </thead>\n",
       "  <tbody>\n",
       "    <tr>\n",
       "      <th>0</th>\n",
       "      <td>0</td>\n",
       "      <td>3</td>\n",
       "      <td>Braund, Mr. Owen Harris</td>\n",
       "      <td>male</td>\n",
       "      <td>22.0</td>\n",
       "      <td>1</td>\n",
       "      <td>0</td>\n",
       "      <td>A/5 21171</td>\n",
       "      <td>7.2500</td>\n",
       "      <td>NaN</td>\n",
       "      <td>S</td>\n",
       "      <td>1</td>\n",
       "      <td>True</td>\n",
       "      <td>False</td>\n",
       "    </tr>\n",
       "    <tr>\n",
       "      <th>1</th>\n",
       "      <td>1</td>\n",
       "      <td>1</td>\n",
       "      <td>Cumings, Mrs. John Bradley (Florence Briggs Th...</td>\n",
       "      <td>female</td>\n",
       "      <td>38.0</td>\n",
       "      <td>1</td>\n",
       "      <td>0</td>\n",
       "      <td>PC 17599</td>\n",
       "      <td>71.2833</td>\n",
       "      <td>C85</td>\n",
       "      <td>C</td>\n",
       "      <td>2</td>\n",
       "      <td>True</td>\n",
       "      <td>False</td>\n",
       "    </tr>\n",
       "    <tr>\n",
       "      <th>2</th>\n",
       "      <td>1</td>\n",
       "      <td>3</td>\n",
       "      <td>Heikkinen, Miss. Laina</td>\n",
       "      <td>female</td>\n",
       "      <td>26.0</td>\n",
       "      <td>0</td>\n",
       "      <td>0</td>\n",
       "      <td>STON/O2. 3101282</td>\n",
       "      <td>7.9250</td>\n",
       "      <td>NaN</td>\n",
       "      <td>S</td>\n",
       "      <td>3</td>\n",
       "      <td>False</td>\n",
       "      <td>False</td>\n",
       "    </tr>\n",
       "    <tr>\n",
       "      <th>3</th>\n",
       "      <td>1</td>\n",
       "      <td>1</td>\n",
       "      <td>Futrelle, Mrs. Jacques Heath (Lily May Peel)</td>\n",
       "      <td>female</td>\n",
       "      <td>35.0</td>\n",
       "      <td>1</td>\n",
       "      <td>0</td>\n",
       "      <td>113803</td>\n",
       "      <td>53.1000</td>\n",
       "      <td>C123</td>\n",
       "      <td>S</td>\n",
       "      <td>4</td>\n",
       "      <td>True</td>\n",
       "      <td>False</td>\n",
       "    </tr>\n",
       "    <tr>\n",
       "      <th>4</th>\n",
       "      <td>0</td>\n",
       "      <td>3</td>\n",
       "      <td>Allen, Mr. William Henry</td>\n",
       "      <td>male</td>\n",
       "      <td>35.0</td>\n",
       "      <td>0</td>\n",
       "      <td>0</td>\n",
       "      <td>373450</td>\n",
       "      <td>8.0500</td>\n",
       "      <td>NaN</td>\n",
       "      <td>S</td>\n",
       "      <td>5</td>\n",
       "      <td>False</td>\n",
       "      <td>False</td>\n",
       "    </tr>\n",
       "  </tbody>\n",
       "</table>\n",
       "</div>"
      ],
      "text/plain": [
       "   Survived  Pclass                                               Name  \\\n",
       "0         0       3                            Braund, Mr. Owen Harris   \n",
       "1         1       1  Cumings, Mrs. John Bradley (Florence Briggs Th...   \n",
       "2         1       3                             Heikkinen, Miss. Laina   \n",
       "3         1       1       Futrelle, Mrs. Jacques Heath (Lily May Peel)   \n",
       "4         0       3                           Allen, Mr. William Henry   \n",
       "\n",
       "      Sex   Age  SibSp  Parch            Ticket     Fare Cabin Embarked  PID  \\\n",
       "0    male  22.0      1      0         A/5 21171   7.2500   NaN        S    1   \n",
       "1  female  38.0      1      0          PC 17599  71.2833   C85        C    2   \n",
       "2  female  26.0      0      0  STON/O2. 3101282   7.9250   NaN        S    3   \n",
       "3  female  35.0      1      0            113803  53.1000  C123        S    4   \n",
       "4    male  35.0      0      0            373450   8.0500   NaN        S    5   \n",
       "\n",
       "  Has_SibSp Has_Parch  \n",
       "0      True     False  \n",
       "1      True     False  \n",
       "2     False     False  \n",
       "3      True     False  \n",
       "4     False     False  "
      ]
     },
     "execution_count": 133,
     "metadata": {},
     "output_type": "execute_result"
    }
   ],
   "source": [
    "####################################\n",
    "#     Project Titanic\n",
    "####################################\n",
    "\n",
    "import unicodecsv\n",
    "import pandas as pd\n",
    "import numpy as np\n",
    "\n",
    "##################################\n",
    "### Data Wrangling \n",
    "##################################\n",
    "\n",
    "def convert_to_float(j): #Convert to float\n",
    "    if j == '':\n",
    "        return None\n",
    "    else:\n",
    "        return float(j)\n",
    "    \n",
    "def convert_to_int(j): #Convert to int\n",
    "    if j == '':\n",
    "        return None\n",
    "    else:\n",
    "        return int(j)\n",
    "    \n",
    "def convert_to_str(j): #Convert to str\n",
    "    if j == '':\n",
    "        return None\n",
    "    else:\n",
    "        return str(j)\n",
    "\n",
    "filename = 'titanic-data.csv'\n",
    "titanic_data_df = pd.read_csv(filename)\n",
    "\n",
    "titanic_data_df['PID'] = titanic_data_df['PassengerId']  #Change PassengerID name to PID\n",
    "del titanic_data_df['PassengerId']\n",
    "\n",
    "titanic_data_df['Survived'].apply(convert_to_int)\n",
    "titanic_data_df['Pclass'].apply(convert_to_int)\n",
    "titanic_data_df['SibSp'].apply(convert_to_int)\n",
    "titanic_data_df['Parch'].apply(convert_to_int)\n",
    "titanic_data_df['PID'].apply(convert_to_int)\n",
    "\n",
    "titanic_data_df['Age'].apply(convert_to_float)\n",
    "titanic_data_df['Fare'].apply(convert_to_float)\n",
    "\n",
    "titanic_data_df['Name'].apply(convert_to_str)\n",
    "titanic_data_df['Sex'].apply(convert_to_str)\n",
    "titanic_data_df['Ticket'].apply(convert_to_str)\n",
    "titanic_data_df['Cabin'].apply(convert_to_str)\n",
    "titanic_data_df['Embarked'].apply(convert_to_str)\n",
    "\n",
    "# Add columns to indicate whether siblings or parent/child were onboard\n",
    "titanic_data_df['Has_SibSp'] = (titanic_data_df['SibSp'] >= 1)\n",
    "titanic_data_df['Has_Parch'] = (titanic_data_df['Parch'] >= 1)\n",
    "\n",
    "titanic_data_df.head()"
   ]
  },
  {
   "cell_type": "code",
   "execution_count": 134,
   "metadata": {
    "collapsed": false
   },
   "outputs": [
    {
     "name": "stdout",
     "output_type": "stream",
     "text": [
      "Table: Categories with missing values: True = missing, False = no missing data\n",
      "Survived     False\n",
      "Pclass       False\n",
      "Name         False\n",
      "Sex          False\n",
      "Age           True\n",
      "SibSp        False\n",
      "Parch        False\n",
      "Ticket       False\n",
      "Fare         False\n",
      "Cabin         True\n",
      "Embarked      True\n",
      "PID          False\n",
      "Has_SibSp    False\n",
      "Has_Parch    False\n",
      "dtype: bool\n"
     ]
    }
   ],
   "source": [
    "###\n",
    "### Check data for Null values\n",
    "###\n",
    "\n",
    "def get_null(var):\n",
    "    '''\n",
    "    Function returns DataFrame only consisting rows with Null values\n",
    "    '''\n",
    "    is_null = pd.isnull(titanic_data_df[var])\n",
    "    index = is_null[is_null == True].index.tolist()\n",
    "    df_null = titanic_data_df.iloc[index]\n",
    "    \n",
    "    return df_null\n",
    "\n",
    "print 'Table: Categories with missing values: True = missing, False = no missing data'\n",
    "print pd.isnull(titanic_data_df).any()  # Prints all columns that contain Null values"
   ]
  },
  {
   "cell_type": "markdown",
   "metadata": {},
   "source": [
    "* Any column with NaN or Null value has been identified as summarized in the table above. \"Age\", \"Cabin\", and \"Embarked\" categories have missing data.\n",
    "* In depth analysis is provided below regarding missing data in \"Age\" category. Such analysis is important as it may affect any analysis involving \"Age\" category."
   ]
  },
  {
   "cell_type": "code",
   "execution_count": 135,
   "metadata": {
    "collapsed": false,
    "scrolled": true
   },
   "outputs": [
    {
     "name": "stdout",
     "output_type": "stream",
     "text": [
      "Category \"Age\" has 177 missing data, which is 0.199 of all passengers.\n",
      "\n"
     ]
    },
    {
     "data": {
      "text/html": [
       "<div>\n",
       "<table border=\"1\" class=\"dataframe\">\n",
       "  <thead>\n",
       "    <tr style=\"text-align: right;\">\n",
       "      <th></th>\n",
       "      <th>Survived</th>\n",
       "      <th>Pclass</th>\n",
       "      <th>Name</th>\n",
       "      <th>Sex</th>\n",
       "      <th>Age</th>\n",
       "      <th>SibSp</th>\n",
       "      <th>Parch</th>\n",
       "      <th>Ticket</th>\n",
       "      <th>Fare</th>\n",
       "      <th>Cabin</th>\n",
       "      <th>Embarked</th>\n",
       "      <th>PID</th>\n",
       "      <th>Has_SibSp</th>\n",
       "      <th>Has_Parch</th>\n",
       "    </tr>\n",
       "  </thead>\n",
       "  <tbody>\n",
       "    <tr>\n",
       "      <th>5</th>\n",
       "      <td>0</td>\n",
       "      <td>3</td>\n",
       "      <td>Moran, Mr. James</td>\n",
       "      <td>male</td>\n",
       "      <td>NaN</td>\n",
       "      <td>0</td>\n",
       "      <td>0</td>\n",
       "      <td>330877</td>\n",
       "      <td>8.4583</td>\n",
       "      <td>NaN</td>\n",
       "      <td>Q</td>\n",
       "      <td>6</td>\n",
       "      <td>False</td>\n",
       "      <td>False</td>\n",
       "    </tr>\n",
       "    <tr>\n",
       "      <th>17</th>\n",
       "      <td>1</td>\n",
       "      <td>2</td>\n",
       "      <td>Williams, Mr. Charles Eugene</td>\n",
       "      <td>male</td>\n",
       "      <td>NaN</td>\n",
       "      <td>0</td>\n",
       "      <td>0</td>\n",
       "      <td>244373</td>\n",
       "      <td>13.0000</td>\n",
       "      <td>NaN</td>\n",
       "      <td>S</td>\n",
       "      <td>18</td>\n",
       "      <td>False</td>\n",
       "      <td>False</td>\n",
       "    </tr>\n",
       "    <tr>\n",
       "      <th>19</th>\n",
       "      <td>1</td>\n",
       "      <td>3</td>\n",
       "      <td>Masselmani, Mrs. Fatima</td>\n",
       "      <td>female</td>\n",
       "      <td>NaN</td>\n",
       "      <td>0</td>\n",
       "      <td>0</td>\n",
       "      <td>2649</td>\n",
       "      <td>7.2250</td>\n",
       "      <td>NaN</td>\n",
       "      <td>C</td>\n",
       "      <td>20</td>\n",
       "      <td>False</td>\n",
       "      <td>False</td>\n",
       "    </tr>\n",
       "    <tr>\n",
       "      <th>26</th>\n",
       "      <td>0</td>\n",
       "      <td>3</td>\n",
       "      <td>Emir, Mr. Farred Chehab</td>\n",
       "      <td>male</td>\n",
       "      <td>NaN</td>\n",
       "      <td>0</td>\n",
       "      <td>0</td>\n",
       "      <td>2631</td>\n",
       "      <td>7.2250</td>\n",
       "      <td>NaN</td>\n",
       "      <td>C</td>\n",
       "      <td>27</td>\n",
       "      <td>False</td>\n",
       "      <td>False</td>\n",
       "    </tr>\n",
       "    <tr>\n",
       "      <th>28</th>\n",
       "      <td>1</td>\n",
       "      <td>3</td>\n",
       "      <td>O'Dwyer, Miss. Ellen \"Nellie\"</td>\n",
       "      <td>female</td>\n",
       "      <td>NaN</td>\n",
       "      <td>0</td>\n",
       "      <td>0</td>\n",
       "      <td>330959</td>\n",
       "      <td>7.8792</td>\n",
       "      <td>NaN</td>\n",
       "      <td>Q</td>\n",
       "      <td>29</td>\n",
       "      <td>False</td>\n",
       "      <td>False</td>\n",
       "    </tr>\n",
       "  </tbody>\n",
       "</table>\n",
       "</div>"
      ],
      "text/plain": [
       "    Survived  Pclass                           Name     Sex  Age  SibSp  \\\n",
       "5          0       3               Moran, Mr. James    male  NaN      0   \n",
       "17         1       2   Williams, Mr. Charles Eugene    male  NaN      0   \n",
       "19         1       3        Masselmani, Mrs. Fatima  female  NaN      0   \n",
       "26         0       3        Emir, Mr. Farred Chehab    male  NaN      0   \n",
       "28         1       3  O'Dwyer, Miss. Ellen \"Nellie\"  female  NaN      0   \n",
       "\n",
       "    Parch  Ticket     Fare Cabin Embarked  PID Has_SibSp Has_Parch  \n",
       "5       0  330877   8.4583   NaN        Q    6     False     False  \n",
       "17      0  244373  13.0000   NaN        S   18     False     False  \n",
       "19      0    2649   7.2250   NaN        C   20     False     False  \n",
       "26      0    2631   7.2250   NaN        C   27     False     False  \n",
       "28      0  330959   7.8792   NaN        Q   29     False     False  "
      ]
     },
     "execution_count": 135,
     "metadata": {},
     "output_type": "execute_result"
    }
   ],
   "source": [
    "# Missing data in \"Age\" category\n",
    "\n",
    "df_null = get_null('Age')\n",
    "num_missing_Age = len(df_null)\n",
    "\n",
    "print ('Category \"Age\" has {} missing data, which is {:0.3f} of all passengers.'.format(num_missing_Age, \n",
    "                                                float(num_missing_Age)/len(titanic_data_df['PID'])) + '\\n')\n",
    "df_null.head()"
   ]
  },
  {
   "cell_type": "code",
   "execution_count": 136,
   "metadata": {
    "collapsed": false,
    "scrolled": true
   },
   "outputs": [
    {
     "name": "stdout",
     "output_type": "stream",
     "text": [
      "Number of missing \"Age\" data for passengers who survived and died:\n",
      "\n",
      "Died        125\n",
      "Survived     52\n",
      "Name: PID, dtype: int64\n",
      "\n",
      "\n",
      "Table: Percent of passengers with missing \"Age\" data for passengers who survived and died\n",
      "Died        0.227687\n",
      "Survived    0.152047\n",
      "Name: PID, dtype: float64\n"
     ]
    }
   ],
   "source": [
    "# Missing \"Age\" data in passengers who survived and died\n",
    "\n",
    "tab_null = df_null.groupby('Survived').count()['PID']\n",
    "tab_null.index = ['Died', 'Survived']\n",
    "num_passenger_by_Survived = titanic_data_df.groupby('Survived').count()['PID']\n",
    "num_passenger_by_Survived.index = ['Died', 'Survived']\n",
    "\n",
    "print ('Number of missing \"Age\" data for passengers who survived and died:' + '\\n')\n",
    "print tab_null\n",
    "print'\\n'\n",
    "print 'Table: Percent of passengers with missing \"Age\" data for passengers who survived and died'\n",
    "print tab_null / num_passenger_by_Survived"
   ]
  },
  {
   "cell_type": "markdown",
   "metadata": {},
   "source": [
    "* The table above shows the percent of \"Age\" data missing for passengers who survived and died from the accident.\n",
    "* Since the percentage of \"Age\" data missing from those who died (22.3%) is higher than those survived (15.2%) the accident, there is a possibility that some portions of the record may have been collected after the accident."
   ]
  },
  {
   "cell_type": "code",
   "execution_count": 137,
   "metadata": {
    "collapsed": false
   },
   "outputs": [
    {
     "name": "stdout",
     "output_type": "stream",
     "text": [
      "Number of missing \"Age\" data in \"Sex\" category:\n",
      "\n",
      "Sex\n",
      "female     53\n",
      "male      124\n",
      "Name: PID, dtype: int64\n",
      "\n",
      "\n",
      "        Died  Survived\n",
      "Sex                   \n",
      "female    17        36\n",
      "male     108        16\n",
      "\n",
      "\n",
      "Table: Percent of passengers with missing \"Age\" data by gender\n"
     ]
    },
    {
     "data": {
      "text/html": [
       "<div>\n",
       "<table border=\"1\" class=\"dataframe\">\n",
       "  <thead>\n",
       "    <tr style=\"text-align: right;\">\n",
       "      <th></th>\n",
       "      <th>Died</th>\n",
       "      <th>Survived</th>\n",
       "    </tr>\n",
       "    <tr>\n",
       "      <th>Sex</th>\n",
       "      <th></th>\n",
       "      <th></th>\n",
       "    </tr>\n",
       "  </thead>\n",
       "  <tbody>\n",
       "    <tr>\n",
       "      <th>female</th>\n",
       "      <td>0.209877</td>\n",
       "      <td>0.154506</td>\n",
       "    </tr>\n",
       "    <tr>\n",
       "      <th>male</th>\n",
       "      <td>0.230769</td>\n",
       "      <td>0.146789</td>\n",
       "    </tr>\n",
       "  </tbody>\n",
       "</table>\n",
       "</div>"
      ],
      "text/plain": [
       "            Died  Survived\n",
       "Sex                       \n",
       "female  0.209877  0.154506\n",
       "male    0.230769  0.146789"
      ]
     },
     "execution_count": 137,
     "metadata": {},
     "output_type": "execute_result"
    }
   ],
   "source": [
    "# Analyze how missing \"Age\" data is distributed in \"Sex\" category\n",
    "\n",
    "tab_null1 = pd.crosstab(index=df_null['Sex'], columns=df_null['Survived'])\n",
    "tab_null1.columns = ['Died', 'Survived']\n",
    "num_passenger_by_Sex = pd.crosstab(index=titanic_data_df['Sex'], columns=titanic_data_df['Survived'])\n",
    "num_passenger_by_Sex.columns = ['Died', 'Survived']\n",
    "\n",
    "print ('Number of missing \"Age\" data in \"Sex\" category:' + '\\n')\n",
    "print df_null.groupby('Sex').count()['PID']\n",
    "print '\\n'\n",
    "print tab_null1\n",
    "print'\\n'\n",
    "print 'Table: Percent of passengers with missing \"Age\" data by gender'\n",
    "tab_null1 / num_passenger_by_Sex"
   ]
  },
  {
   "cell_type": "markdown",
   "metadata": {},
   "source": [
    "* \"Age\" data missing by gender also shows that higher percentage of data is missing for passengers who died than survived the accident within each gender."
   ]
  },
  {
   "cell_type": "code",
   "execution_count": 138,
   "metadata": {
    "collapsed": false
   },
   "outputs": [
    {
     "name": "stdout",
     "output_type": "stream",
     "text": [
      "Number of missing \"Age\" data in \"Pclass\" category:\n",
      "\n",
      "Pclass\n",
      "1     30\n",
      "2     11\n",
      "3    136\n",
      "Name: PID, dtype: int64\n",
      "\n",
      "\n",
      "        Died  Survived\n",
      "Pclass                \n",
      "1         16        14\n",
      "2          7         4\n",
      "3        102        34\n",
      "\n",
      "\n",
      "Table: Percent of passengers with missing \"Age\" data by Passenger Class\n"
     ]
    },
    {
     "data": {
      "text/html": [
       "<div>\n",
       "<table border=\"1\" class=\"dataframe\">\n",
       "  <thead>\n",
       "    <tr style=\"text-align: right;\">\n",
       "      <th></th>\n",
       "      <th>Died</th>\n",
       "      <th>Survived</th>\n",
       "    </tr>\n",
       "    <tr>\n",
       "      <th>Pclass</th>\n",
       "      <th></th>\n",
       "      <th></th>\n",
       "    </tr>\n",
       "  </thead>\n",
       "  <tbody>\n",
       "    <tr>\n",
       "      <th>1</th>\n",
       "      <td>0.200000</td>\n",
       "      <td>0.102941</td>\n",
       "    </tr>\n",
       "    <tr>\n",
       "      <th>2</th>\n",
       "      <td>0.072165</td>\n",
       "      <td>0.045977</td>\n",
       "    </tr>\n",
       "    <tr>\n",
       "      <th>3</th>\n",
       "      <td>0.274194</td>\n",
       "      <td>0.285714</td>\n",
       "    </tr>\n",
       "  </tbody>\n",
       "</table>\n",
       "</div>"
      ],
      "text/plain": [
       "            Died  Survived\n",
       "Pclass                    \n",
       "1       0.200000  0.102941\n",
       "2       0.072165  0.045977\n",
       "3       0.274194  0.285714"
      ]
     },
     "execution_count": 138,
     "metadata": {},
     "output_type": "execute_result"
    }
   ],
   "source": [
    "# Analyze how missing \"Age\" data is distributed in \"Pclass\" category\n",
    "\n",
    "tab_null2 = pd.crosstab(index=df_null['Pclass'], columns=df_null['Survived'])\n",
    "tab_null2.columns = ['Died', 'Survived']\n",
    "num_passenger_by_Pclass = pd.crosstab(index=titanic_data_df['Pclass'], columns=titanic_data_df['Survived'])\n",
    "num_passenger_by_Pclass.columns = ['Died', 'Survived']\n",
    "\n",
    "print ('Number of missing \"Age\" data in \"Pclass\" category:' + '\\n')\n",
    "print df_null.groupby('Pclass').count()['PID']\n",
    "print '\\n'\n",
    "print tab_null2\n",
    "print '\\n'\n",
    "print 'Table: Percent of passengers with missing \"Age\" data by Passenger Class'\n",
    "tab_null2 / num_passenger_by_Pclass"
   ]
  },
  {
   "cell_type": "markdown",
   "metadata": {},
   "source": [
    "* The missing \"Age\" data by passenger class show an interesting outcome.\n",
    "* Missing \"Age\" data in second class passengers for both who died (7.2%) and survived (5.0%) are much lower compared with overall missing data percentage of 19.9%.\n",
    "* Missing \"Age\" data in third class passengers are similarly high for both who died (27.4%) and survived (28.6%) the accident. This observation differs from the fact that the percentage missing \"Age\" data were higher for passengers who died. This leads to speculation whether less effort has been made to acquire information for third class passengers than first or second class passengers."
   ]
  },
  {
   "cell_type": "markdown",
   "metadata": {},
   "source": [
    "## 2. Data Exploration\n",
    "* Three functions have been defined to facilitate calculation of survival rates for various variables.\n",
    "* Survival rates based on gender, age, passenger class, presence of sibling/spouse or parent/child, and port embarked were analyzed in this section.\n",
    "* Out of 891 passengers, age data for 177 passengers were misssing. Those passengers with missing age information were omitted from any calculation or graphs that require passenger age; however, they were included in all other calculations or graphs that do not specifically need age information."
   ]
  },
  {
   "cell_type": "code",
   "execution_count": 139,
   "metadata": {
    "collapsed": false,
    "scrolled": true
   },
   "outputs": [
    {
     "name": "stdout",
     "output_type": "stream",
     "text": [
      "Total passengers = 891,  Male = 577,  Female = 314\n",
      "Total survived = 342,  Overall survival rate = 0.383838383838\n",
      "\n",
      "\n",
      "Male survival rate = 0.188908145581,  Female survival rate = 0.742038216561\n",
      "\n",
      "\n",
      "First class passenger survival rate = 0.62962962963\n",
      "Second class passenger survival rate = 0.472826086957\n",
      "Third class passenger survival rate = 0.242362525458\n",
      "\n",
      "\n",
      "Passengers onboard with parents or child survial rate = 0.511737089202\n",
      "Passengers onboard with siblings or spouse survial rate = 0.466431095406\n",
      "\n",
      "\n",
      "Passengers embarked at \"C\" survial rate = 0.553571428571\n",
      "Passengers embarked at \"Q\" survial rate = 0.38961038961\n",
      "Passengers embarked at \"S\" survial rate = 0.336956521739\n"
     ]
    }
   ],
   "source": [
    "################################\n",
    "### Data Exploration\n",
    "################################\n",
    "\n",
    "def cal_passengers(variable, key):\n",
    "    '''\n",
    "    Calculates number of passengers for given variable and key\n",
    "    '''\n",
    "    return (titanic_data_df[variable] == key).sum()\n",
    "\n",
    "def cal_survivers(variable, key):\n",
    "    '''\n",
    "    Calculates number of survivals for given variable and key\n",
    "    '''\n",
    "    grouped_data = titanic_data_df.groupby(variable)\n",
    "    return grouped_data['Survived'].sum()[key]\n",
    "\n",
    "def cal_survival_rate(variable, key):\n",
    "    '''\n",
    "    Calculates survival rates for given variable and key\n",
    "    '''\n",
    "    num_of_passengers = cal_passengers(variable, key)\n",
    "    survived_passengers = cal_survivers(variable, key)\n",
    "    return float(survived_passengers) / num_of_passengers\n",
    "\n",
    "# Number of passengers\n",
    "num_passenger = len(titanic_data_df['PID'])\n",
    "male_passenger = cal_passengers('Sex', 'male')\n",
    "female_passenger = cal_passengers('Sex', 'female')\n",
    "\n",
    "#Number of passengers survived\n",
    "survived_passenger = titanic_data_df['Survived'].sum()\n",
    "\n",
    "# Calculate basic information\n",
    "print ('Total passengers = {},  Male = {},  Female = {}'.format(num_passenger, male_passenger, female_passenger))\n",
    "print ('Total survived = {},  Overall survival rate = {}'.format(survived_passenger, float(survived_passenger)/num_passenger))\n",
    "print '\\n'\n",
    "\n",
    "print ('Male survival rate = {},  Female survival rate = {}'.format (cal_survival_rate('Sex', 'male'),\n",
    "                                                                   cal_survival_rate('Sex', 'female')))\n",
    "print '\\n'\n",
    "\n",
    "print ('First class passenger survival rate = {}'.format(cal_survival_rate('Pclass', 1)))\n",
    "print ('Second class passenger survival rate = {}'.format(cal_survival_rate('Pclass', 2)))\n",
    "print ('Third class passenger survival rate = {}'.format(cal_survival_rate('Pclass', 3)))\n",
    "print '\\n'\n",
    "\n",
    "print ('Passengers onboard with parents or child survial rate = {}'.format(cal_survival_rate('Has_Parch', True)))\n",
    "print ('Passengers onboard with siblings or spouse survial rate = {}'.format(cal_survival_rate('Has_SibSp', True)))\n",
    "print '\\n'\n",
    "\n",
    "print ('Passengers embarked at \"C\" survial rate = {}'.format(cal_survival_rate('Embarked', 'C')))\n",
    "print ('Passengers embarked at \"Q\" survial rate = {}'.format(cal_survival_rate('Embarked', 'Q')))\n",
    "print ('Passengers embarked at \"S\" survial rate = {}'.format(cal_survival_rate('Embarked', 'S')))"
   ]
  },
  {
   "cell_type": "markdown",
   "metadata": {},
   "source": [
    "* The **overall passenger survival rate is 38.4%**. It shows that passenger gender was one of the biggest factor that contributed to their survival. Survival rate was **74.2% for women** compared with **18.9% for men**.\n",
    "* The higher class passengers were more likely to survive where the survival rates for first, second, and third class passengers were 63.0%, 47.3%, and 24.2%.\n",
    "* Passengers onboard with either parent/child or sibling/spouse were more likely to survive.\n",
    "* Passengers who embarked at port C had higher averge survival rate than passengers embarked at port Q or S."
   ]
  },
  {
   "cell_type": "code",
   "execution_count": 140,
   "metadata": {
    "collapsed": false
   },
   "outputs": [
    {
     "name": "stdout",
     "output_type": "stream",
     "text": [
      "Table 1: Survival rates based on passenger class and gender\n"
     ]
    },
    {
     "data": {
      "text/html": [
       "<div>\n",
       "<table border=\"1\" class=\"dataframe\">\n",
       "  <thead>\n",
       "    <tr style=\"text-align: right;\">\n",
       "      <th></th>\n",
       "      <th></th>\n",
       "      <th>Died</th>\n",
       "      <th>Survived</th>\n",
       "    </tr>\n",
       "    <tr>\n",
       "      <th>Pclass</th>\n",
       "      <th>Sex</th>\n",
       "      <th></th>\n",
       "      <th></th>\n",
       "    </tr>\n",
       "  </thead>\n",
       "  <tbody>\n",
       "    <tr>\n",
       "      <th rowspan=\"2\" valign=\"top\">1</th>\n",
       "      <th>female</th>\n",
       "      <td>0.031915</td>\n",
       "      <td>0.968085</td>\n",
       "    </tr>\n",
       "    <tr>\n",
       "      <th>male</th>\n",
       "      <td>0.631148</td>\n",
       "      <td>0.368852</td>\n",
       "    </tr>\n",
       "    <tr>\n",
       "      <th rowspan=\"2\" valign=\"top\">2</th>\n",
       "      <th>female</th>\n",
       "      <td>0.078947</td>\n",
       "      <td>0.921053</td>\n",
       "    </tr>\n",
       "    <tr>\n",
       "      <th>male</th>\n",
       "      <td>0.842593</td>\n",
       "      <td>0.157407</td>\n",
       "    </tr>\n",
       "    <tr>\n",
       "      <th rowspan=\"2\" valign=\"top\">3</th>\n",
       "      <th>female</th>\n",
       "      <td>0.500000</td>\n",
       "      <td>0.500000</td>\n",
       "    </tr>\n",
       "    <tr>\n",
       "      <th>male</th>\n",
       "      <td>0.864553</td>\n",
       "      <td>0.135447</td>\n",
       "    </tr>\n",
       "  </tbody>\n",
       "</table>\n",
       "</div>"
      ],
      "text/plain": [
       "                   Died  Survived\n",
       "Pclass Sex                       \n",
       "1      female  0.031915  0.968085\n",
       "       male    0.631148  0.368852\n",
       "2      female  0.078947  0.921053\n",
       "       male    0.842593  0.157407\n",
       "3      female  0.500000  0.500000\n",
       "       male    0.864553  0.135447"
      ]
     },
     "execution_count": 140,
     "metadata": {},
     "output_type": "execute_result"
    }
   ],
   "source": [
    "###\n",
    "### Summary table showing effect of gender on survival rates for passenger class.\n",
    "###\n",
    "\n",
    "print 'Table 1: Survival rates based on passenger class and gender'\n",
    "table1_df = pd.crosstab(index=[titanic_data_df['Pclass'], titanic_data_df['Sex']], columns=titanic_data_df['Survived'])\n",
    "table1_df.columns = ['Died', 'Survived']\n",
    "tot1_by_row = table1_df['Died'] + table1_df['Survived']\n",
    "table1_df.div(tot1_by_row, axis='index')"
   ]
  },
  {
   "cell_type": "markdown",
   "metadata": {},
   "source": [
    "* Table 1 shows a detailed summary of survival rates based on passenger class and gender. Even _within_ each passenger class, women had much higher survival rates than men. Over 90% of women survived who were either first or second class.\n",
    "* Table 1 was created with information from http://pandas.pydata.org/pandas-docs/stable/generated/pandas.crosstab.html."
   ]
  },
  {
   "cell_type": "code",
   "execution_count": 141,
   "metadata": {
    "collapsed": false,
    "scrolled": false
   },
   "outputs": [
    {
     "name": "stdout",
     "output_type": "stream",
     "text": [
      "Figure 1: Pie charts showing number of passengers survied and died\n"
     ]
    },
    {
     "data": {
      "image/png": "[encoded data removed]",
      "text/plain": [
       "<matplotlib.figure.Figure at 0x93cc9b0>"
      ]
     },
     "metadata": {},
     "output_type": "display_data"
    },
    {
     "data": {
      "image/png": "[encoded data removed]",
      "text/plain": [
       "<matplotlib.figure.Figure at 0x9556978>"
      ]
     },
     "metadata": {},
     "output_type": "display_data"
    }
   ],
   "source": [
    "###\n",
    "### Plot pie charts for male and female passengers\n",
    "###\n",
    "\n",
    "%matplotlib inline\n",
    "\n",
    "import matplotlib.pyplot as plt\n",
    "import numpy as np\n",
    "\n",
    "def pie_Pclass(ax, values, **kwargs):\n",
    "    labels_Pclass = ['First class','Second class','Third class','First class','Second class','Third class']\n",
    "    total = sum(values)\n",
    "    def formatter(pct):\n",
    "        return '{:0.0f}\\n({:0.1f}%)'.format(pct*total/100, pct)\n",
    "    wedges, _, labels = ax.pie(values, labels=labels_Pclass, autopct=formatter, **kwargs)\n",
    "    return wedges\n",
    "\n",
    "def pie_Sex(ax, values, **kwargs):\n",
    "    total = sum(values)\n",
    "    def formatter(pct):\n",
    "        return '{:0.0f}\\n({:0.1f}%)'.format(pct*total/100, pct)\n",
    "    wedges, _, labels = ax.pie(values, autopct=formatter, **kwargs)\n",
    "    return wedges\n",
    "\n",
    "#Get values needed to plot the pie chart\n",
    "outer_df = pd.crosstab(index=[titanic_data_df['Sex'], titanic_data_df['Pclass']], columns=titanic_data_df['Survived'])\n",
    "outer_df.columns = ['Died', 'Survived']\n",
    "outer_male = pd.concat([outer_df['Survived']['male'], outer_df['Died']['male']])\n",
    "outer_female = pd.concat([outer_df['Survived']['female'], outer_df['Died']['female']])\n",
    "\n",
    "inner_df = pd.crosstab(index=titanic_data_df['Sex'], columns=titanic_data_df['Survived'])\n",
    "inner_df.columns = ['Died', 'Survived']\n",
    "inner_male = inner_df.loc['male'].iloc[::-1]\n",
    "inner_female = inner_df.loc['female'].iloc[::-1]\n",
    "\n",
    "#\n",
    "#Plot the pie chart\n",
    "#\n",
    "\n",
    "print 'Figure 1: Pie charts showing number of passengers survied and died'\n",
    "width = 0.37 \n",
    "kwargs_outer = dict(colors=['#9999FF', '#9999FF', '#9999FF', '#FF9999', '#FF9999', '#FF9999'], startangle=90)\n",
    "kwargs_inner = dict(colors=['#9999FF', '#FF9999'], startangle=90)\n",
    "\n",
    "#Plot the pie chart for male\n",
    "fig, ax = plt.subplots()\n",
    "ax.axis('equal')\n",
    "\n",
    "outside = pie_Pclass(ax, outer_male, radius=1, pctdistance=1-width/2, **kwargs_outer)\n",
    "inside = pie_Sex(ax, inner_male, radius=1-width, pctdistance=1 - (width/2) / (1-width), **kwargs_inner)\n",
    "plt.setp(inside + outside, width=width, edgecolor='white')\n",
    "\n",
    "ax.legend(inside[::-1], ['Died', 'Survived'], frameon=True)\n",
    "kwargs = dict(size=13, color='white', va='center', fontweight='bold')\n",
    "\n",
    "ax.text(0, 0, 'Male', ha='center', \n",
    "        bbox=dict(boxstyle='round', facecolor='green', edgecolor='none'),\n",
    "        **kwargs)\n",
    "plt.show()\n",
    "\n",
    "#Plot the pie chart for female\n",
    "fig, ax = plt.subplots()\n",
    "ax.axis('equal')\n",
    "\n",
    "outside = pie_Pclass(ax, outer_female, radius=1, pctdistance=1-width/2, **kwargs_outer)\n",
    "inside = pie_Sex(ax, inner_female, radius=1-width, pctdistance=1 - (width/2) / (1-width), **kwargs_inner)\n",
    "plt.setp(inside + outside, width=width, edgecolor='white')\n",
    "\n",
    "ax.legend(inside[::-1], ['Died', 'Survived'], loc=2, frameon=True)\n",
    "kwargs = dict(size=13, color='white', va='center', fontweight='bold')\n",
    "\n",
    "ax.text(0, 0, 'Female', ha='center', \n",
    "        bbox=dict(boxstyle='round', facecolor='green', edgecolor='none'),\n",
    "        **kwargs)\n",
    "plt.show()"
   ]
  },
  {
   "cell_type": "markdown",
   "metadata": {},
   "source": [
    "* The two pie charts separately plotted for male and female clearly show strikingly high survival rates for female passengers as distinguished by the blue color.\n",
    "* The pie charts also show the number of passengers survived and died for different passenger classes.\n",
    "* The code used to generate Figure 1 were modified from the original code given in http://matplotlib.1069221.n5.nabble.com/how-to-draw-concentric-donuts-chart-td43408.html."
   ]
  },
  {
   "cell_type": "code",
   "execution_count": 142,
   "metadata": {
    "collapsed": false
   },
   "outputs": [
    {
     "name": "stdout",
     "output_type": "stream",
     "text": [
      "Table 2: Effect of passenger class on survival based on gender informaton\n"
     ]
    },
    {
     "data": {
      "text/html": [
       "<div>\n",
       "<table border=\"1\" class=\"dataframe\">\n",
       "  <thead>\n",
       "    <tr style=\"text-align: right;\">\n",
       "      <th></th>\n",
       "      <th></th>\n",
       "      <th>Died</th>\n",
       "      <th>Survived</th>\n",
       "    </tr>\n",
       "    <tr>\n",
       "      <th>Sex</th>\n",
       "      <th>Pclass</th>\n",
       "      <th></th>\n",
       "      <th></th>\n",
       "    </tr>\n",
       "  </thead>\n",
       "  <tbody>\n",
       "    <tr>\n",
       "      <th rowspan=\"3\" valign=\"top\">female</th>\n",
       "      <th>1</th>\n",
       "      <td>0.031915</td>\n",
       "      <td>0.968085</td>\n",
       "    </tr>\n",
       "    <tr>\n",
       "      <th>2</th>\n",
       "      <td>0.078947</td>\n",
       "      <td>0.921053</td>\n",
       "    </tr>\n",
       "    <tr>\n",
       "      <th>3</th>\n",
       "      <td>0.500000</td>\n",
       "      <td>0.500000</td>\n",
       "    </tr>\n",
       "    <tr>\n",
       "      <th rowspan=\"3\" valign=\"top\">male</th>\n",
       "      <th>1</th>\n",
       "      <td>0.631148</td>\n",
       "      <td>0.368852</td>\n",
       "    </tr>\n",
       "    <tr>\n",
       "      <th>2</th>\n",
       "      <td>0.842593</td>\n",
       "      <td>0.157407</td>\n",
       "    </tr>\n",
       "    <tr>\n",
       "      <th>3</th>\n",
       "      <td>0.864553</td>\n",
       "      <td>0.135447</td>\n",
       "    </tr>\n",
       "  </tbody>\n",
       "</table>\n",
       "</div>"
      ],
      "text/plain": [
       "                   Died  Survived\n",
       "Sex    Pclass                    \n",
       "female 1       0.031915  0.968085\n",
       "       2       0.078947  0.921053\n",
       "       3       0.500000  0.500000\n",
       "male   1       0.631148  0.368852\n",
       "       2       0.842593  0.157407\n",
       "       3       0.864553  0.135447"
      ]
     },
     "execution_count": 142,
     "metadata": {},
     "output_type": "execute_result"
    }
   ],
   "source": [
    "###\n",
    "### Generate summary table showing survival rates for passenger class\n",
    "### based on gender, presence of sibling/spouse, and presence of parent/child.\n",
    "###\n",
    "\n",
    "def create_tbl_Pclass(var1, var2):\n",
    "    table_df = pd.crosstab(index=[titanic_data_df[var1], titanic_data_df[var2]], columns=titanic_data_df['Survived'])\n",
    "    table_df.columns = ['Died', 'Survived']\n",
    "    tot_by_row = table_df['Died'] + table_df['Survived']\n",
    "    return table_df.div(tot_by_row, axis='index')\n",
    "\n",
    "print 'Table 2: Effect of passenger class on survival based on gender informaton'\n",
    "create_tbl_Pclass('Sex', 'Pclass')"
   ]
  },
  {
   "cell_type": "markdown",
   "metadata": {},
   "source": [
    "* Above table clearly depicts how survial rates change among different passenger classes.\n",
    "* Within each gender, survival rates drop as the passenger class changes from first to third class. "
   ]
  },
  {
   "cell_type": "code",
   "execution_count": 143,
   "metadata": {
    "collapsed": false,
    "scrolled": true
   },
   "outputs": [
    {
     "name": "stdout",
     "output_type": "stream",
     "text": [
      "Table 3: Effect of passenger class on survival based on presence of sibling or spouse onboard\n"
     ]
    },
    {
     "data": {
      "text/html": [
       "<div>\n",
       "<table border=\"1\" class=\"dataframe\">\n",
       "  <thead>\n",
       "    <tr style=\"text-align: right;\">\n",
       "      <th></th>\n",
       "      <th></th>\n",
       "      <th>Died</th>\n",
       "      <th>Survived</th>\n",
       "    </tr>\n",
       "    <tr>\n",
       "      <th>Has_SibSp</th>\n",
       "      <th>Pclass</th>\n",
       "      <th></th>\n",
       "      <th></th>\n",
       "    </tr>\n",
       "  </thead>\n",
       "  <tbody>\n",
       "    <tr>\n",
       "      <th rowspan=\"3\" valign=\"top\">False</th>\n",
       "      <th>1</th>\n",
       "      <td>0.437956</td>\n",
       "      <td>0.562044</td>\n",
       "    </tr>\n",
       "    <tr>\n",
       "      <th>2</th>\n",
       "      <td>0.583333</td>\n",
       "      <td>0.416667</td>\n",
       "    </tr>\n",
       "    <tr>\n",
       "      <th>3</th>\n",
       "      <td>0.763533</td>\n",
       "      <td>0.236467</td>\n",
       "    </tr>\n",
       "    <tr>\n",
       "      <th rowspan=\"3\" valign=\"top\">True</th>\n",
       "      <th>1</th>\n",
       "      <td>0.253165</td>\n",
       "      <td>0.746835</td>\n",
       "    </tr>\n",
       "    <tr>\n",
       "      <th>2</th>\n",
       "      <td>0.421875</td>\n",
       "      <td>0.578125</td>\n",
       "    </tr>\n",
       "    <tr>\n",
       "      <th>3</th>\n",
       "      <td>0.742857</td>\n",
       "      <td>0.257143</td>\n",
       "    </tr>\n",
       "  </tbody>\n",
       "</table>\n",
       "</div>"
      ],
      "text/plain": [
       "                      Died  Survived\n",
       "Has_SibSp Pclass                    \n",
       "False     1       0.437956  0.562044\n",
       "          2       0.583333  0.416667\n",
       "          3       0.763533  0.236467\n",
       "True      1       0.253165  0.746835\n",
       "          2       0.421875  0.578125\n",
       "          3       0.742857  0.257143"
      ]
     },
     "execution_count": 143,
     "metadata": {},
     "output_type": "execute_result"
    }
   ],
   "source": [
    "print 'Table 3: Effect of passenger class on survival based on presence of sibling or spouse onboard'\n",
    "create_tbl_Pclass('Has_SibSp', 'Pclass')"
   ]
  },
  {
   "cell_type": "markdown",
   "metadata": {},
   "source": [
    "* Above table also clearly shows drop in survival rates as the passenger class changes from first to third class regardless of having sibling or spouse onboard."
   ]
  },
  {
   "cell_type": "code",
   "execution_count": 144,
   "metadata": {
    "collapsed": false
   },
   "outputs": [
    {
     "name": "stdout",
     "output_type": "stream",
     "text": [
      "Table 4: Effect of passenger class on survival based on presence of parent or child onboard\n"
     ]
    },
    {
     "data": {
      "text/html": [
       "<div>\n",
       "<table border=\"1\" class=\"dataframe\">\n",
       "  <thead>\n",
       "    <tr style=\"text-align: right;\">\n",
       "      <th></th>\n",
       "      <th></th>\n",
       "      <th>Died</th>\n",
       "      <th>Survived</th>\n",
       "    </tr>\n",
       "    <tr>\n",
       "      <th>Has_Parch</th>\n",
       "      <th>Pclass</th>\n",
       "      <th></th>\n",
       "      <th></th>\n",
       "    </tr>\n",
       "  </thead>\n",
       "  <tbody>\n",
       "    <tr>\n",
       "      <th rowspan=\"3\" valign=\"top\">False</th>\n",
       "      <th>1</th>\n",
       "      <td>0.392638</td>\n",
       "      <td>0.607362</td>\n",
       "    </tr>\n",
       "    <tr>\n",
       "      <th>2</th>\n",
       "      <td>0.641791</td>\n",
       "      <td>0.358209</td>\n",
       "    </tr>\n",
       "    <tr>\n",
       "      <th>3</th>\n",
       "      <td>0.774278</td>\n",
       "      <td>0.225722</td>\n",
       "    </tr>\n",
       "    <tr>\n",
       "      <th rowspan=\"3\" valign=\"top\">True</th>\n",
       "      <th>1</th>\n",
       "      <td>0.301887</td>\n",
       "      <td>0.698113</td>\n",
       "    </tr>\n",
       "    <tr>\n",
       "      <th>2</th>\n",
       "      <td>0.220000</td>\n",
       "      <td>0.780000</td>\n",
       "    </tr>\n",
       "    <tr>\n",
       "      <th>3</th>\n",
       "      <td>0.700000</td>\n",
       "      <td>0.300000</td>\n",
       "    </tr>\n",
       "  </tbody>\n",
       "</table>\n",
       "</div>"
      ],
      "text/plain": [
       "                      Died  Survived\n",
       "Has_Parch Pclass                    \n",
       "False     1       0.392638  0.607362\n",
       "          2       0.641791  0.358209\n",
       "          3       0.774278  0.225722\n",
       "True      1       0.301887  0.698113\n",
       "          2       0.220000  0.780000\n",
       "          3       0.700000  0.300000"
      ]
     },
     "execution_count": 144,
     "metadata": {},
     "output_type": "execute_result"
    }
   ],
   "source": [
    "print 'Table 4: Effect of passenger class on survival based on presence of parent or child onboard'\n",
    "create_tbl_Pclass('Has_Parch', 'Pclass')"
   ]
  },
  {
   "cell_type": "markdown",
   "metadata": {},
   "source": [
    "* Above table also shows that survival rates decreased as passenger class changed from first to third. "
   ]
  },
  {
   "cell_type": "code",
   "execution_count": 145,
   "metadata": {
    "collapsed": false
   },
   "outputs": [
    {
     "data": {
      "text/plain": [
       "<matplotlib.text.Text at 0xb853e10>"
      ]
     },
     "execution_count": 145,
     "metadata": {},
     "output_type": "execute_result"
    },
    {
     "data": {
      "image/png": "[encoded data removed]",
      "text/plain": [
       "<matplotlib.figure.Figure at 0xb7df6d8>"
      ]
     },
     "metadata": {},
     "output_type": "display_data"
    }
   ],
   "source": [
    "###\n",
    "### Generate bar charts summarizing passenger class effects on survival\n",
    "###\n",
    "\n",
    "%matplotlib inline\n",
    "\n",
    "import numpy as np\n",
    "import matplotlib.pyplot as plt\n",
    "import seaborn as sns\n",
    "\n",
    "def generate_bar_data(var1, var2):\n",
    "    tot = titanic_data_df.groupby([var1, var2]).count()['Survived']\n",
    "    df = titanic_data_df.groupby([var1, var2]).sum()['Survived']\n",
    "    survivor_df = df / tot\n",
    "    for_bar = np.array([survivor_df[:3], survivor_df[3:]])\n",
    "    return survivor_df, pd.DataFrame(for_bar)\n",
    "    \n",
    "bar_Sex1, bar_Sex = generate_bar_data('Sex', 'Pclass')\n",
    "bar_Has_SibSp1, bar_Has_SipSp = generate_bar_data('Has_SibSp', 'Pclass')\n",
    "bar_Has_Parch1, bar_Has_Parch = generate_bar_data('Has_Parch', 'Pclass')\n",
    "\n",
    "bar_df = pd.concat([bar_Sex, bar_Has_SipSp, bar_Has_Parch])\n",
    "bar_df.columns = ['First class', 'Second class', 'Third class']\n",
    "bar_df.index = ['Female','Male', 'Sib/Sp No','Sib/Sp Yes', 'Par/Ch No','Par/Ch Yes']\n",
    "\n",
    "bar_df.plot.bar(stacked=True, title='Figure 2: Effect of passenger class on survival rates for various factors')\n",
    "plt.ylabel('Survival rate')"
   ]
  },
  {
   "cell_type": "markdown",
   "metadata": {},
   "source": [
    "* The bar chart above provides summary of various factor effects on the passenger survival rates.\n",
    "* Comparing the total heights of survival rates for female and men, it is clear that female passengers were more likely to have survived the accident.\n",
    "* The second and third pair of bars show that passengers with sibling/spouse or parent/child onboard the ship were slightly more likely to have survived the accident.\n",
    "* The chart also clearly shows that first or second class passengers were much more likely to have survived the accident compared with third class passengers, since the red bars (third class passengers) are shorter than blue (first class passengers) or green (second class passengers) bars."
   ]
  },
  {
   "cell_type": "code",
   "execution_count": 146,
   "metadata": {
    "collapsed": false
   },
   "outputs": [
    {
     "name": "stdout",
     "output_type": "stream",
     "text": [
      "Table 5: Passenger age statistics for all onboard\n",
      "count    714.000000\n",
      "mean      29.699118\n",
      "std       14.526497\n",
      "min        0.420000\n",
      "25%       20.125000\n",
      "50%       28.000000\n",
      "75%       38.000000\n",
      "max       80.000000\n",
      "Name: Age, dtype: float64\n",
      "\n",
      "\n"
     ]
    },
    {
     "data": {
      "text/plain": [
       "<matplotlib.text.Text at 0xbec8940>"
      ]
     },
     "execution_count": 146,
     "metadata": {},
     "output_type": "execute_result"
    },
    {
     "data": {
      "image/png": "[encoded data removed]",
      "text/plain": [
       "<matplotlib.figure.Figure at 0x890aeb8>"
      ]
     },
     "metadata": {},
     "output_type": "display_data"
    },
    {
     "data": {
      "image/png": "[encoded data removed]",
      "text/plain": [
       "<matplotlib.figure.Figure at 0xbd5ce10>"
      ]
     },
     "metadata": {},
     "output_type": "display_data"
    },
    {
     "data": {
      "image/png": "[encoded data removed]",
      "text/plain": [
       "<matplotlib.figure.Figure at 0x1d65f98>"
      ]
     },
     "metadata": {},
     "output_type": "display_data"
    }
   ],
   "source": [
    "###\n",
    "### Anaysis of influence of age on the survival.\n",
    "###\n",
    "\n",
    "%matplotlib inline\n",
    "\n",
    "import numpy as np\n",
    "import matplotlib.pyplot as plt\n",
    "import seaborn as sns\n",
    "\n",
    "print 'Table 5: Passenger age statistics for all onboard'\n",
    "passenger_age = titanic_data_df['Age'].dropna()   #Note that some passengers did not have age data, and those were dropped.\n",
    "print passenger_age.describe()   \n",
    "print '\\n'\n",
    "\n",
    "# Plot histogram of passenger age distribution\n",
    "plt.figure(1)\n",
    "passenger_freq = plt.hist(passenger_age, bins=range(0,80,6))\n",
    "plt.xlabel('Age')\n",
    "plt.title('Figure 3: Histogram of all passengers onboard')\n",
    "\n",
    "# Plot histogram of surved passenger age distribution\n",
    "survived_index = titanic_data_df[titanic_data_df['Survived'] == 1].index.tolist()  #See the reference given in the main text\n",
    "surviver_age = titanic_data_df['Age'].iloc[survived_index]                         #explaining Figure 2 for the code.\n",
    "survived_passenger_age = surviver_age.dropna()\n",
    "\n",
    "plt.figure(2)\n",
    "survival_freq = plt.hist(survived_passenger_age, bins=range(0,80,6))\n",
    "plt.xlabel('Age')\n",
    "plt.title('Figure 4: Histogram of passengers survived')\n",
    "\n",
    "# Plot survival rate by age group\n",
    "plt.figure(3)\n",
    "data = pd.Series(survival_freq[0] / passenger_freq[0])\n",
    "age_bin = pd.Series(survival_freq[1])\n",
    "age_avg = (age_bin + age_bin.shift()).dropna() / 2\n",
    "\n",
    "plt.bar(age_avg, data, width=5)\n",
    "plt.title('Figure 5: Survival rates by passenger age')\n",
    "plt.xlabel('Age')\n",
    "plt.ylabel('Survival rate')"
   ]
  },
  {
   "cell_type": "markdown",
   "metadata": {},
   "source": [
    "* Table 5 shows the statistics of passenger age with mean of 29.7 years and standard deviation of 14.5 years. The histogram of all passenger ages are shown in Figure 3. Figure 4 shows the histogram of passenger ages for those who survived. The code used to generate data needed to produce Figure 4 are from http://stackoverflow.com/questions/21800169/python-pandas-get-index-of-rows-which-column-matches-certain-value. (It was real challenge to find a way to get the index based on element values!)\n",
    "* Figure 5 shows distribution of passenger ages for those who survived. It is apparent that children under age 6 had higher survival rate than any other age group."
   ]
  },
  {
   "cell_type": "markdown",
   "metadata": {},
   "source": [
    "## 3. Conclusions\n",
    "* Women were more likely to have survived the accident than men as their overall survival rates were 74.2% in comparison to 18.9% for men. This was also true within each passenger class. Women's survival rates were strikingly high for first and second class passengers at 96.8% and 92.1%, respectively.\n",
    "* Higher class passengers were more likely to have survived the accident than lower class passengers. The survival rates for the first and second class passengers were 63.0% and 47.3%, respectively, while third class passenger survival rate was only 24.2% in comparison to overall survival rate of 38.4%.\n",
    "* Young children under the age of 6 were more likely to have survived the accident than any other age group. In addition, passengers older than 70 were likely to have died from the accident. Age data are missing for 19.9% of passengers, and therefore, increases uncertainty of the conclusions made with regards to the passenger age.\n",
    "* It is hard to definitely answer second question whether lower class passengers were unfairly treated and forced to sacrifice. However, the data clearly shows that third class passengers were much more likely to have died from the accident. It was also noted in data wrangling section that percent of missing age data are markedly high in third class passengers, which leads to speculation whether less efforts were made to retrieve information of third class passengers.\n",
    "## 4. Thoughts on how to build on this report \n",
    "* The analysis in some way reflects the society at that era how women, young children, and wealth were valued and affected behavior of people in tragic accidents or life-threatening circumstances. It may be interesting to compare tragic accidents in other periods to understand how the social values evolved or changed.\n",
    "* If a map of the cabins in the ship were given, it will be interesting to see how cabin location affected the surviver rates of those passengers."
   ]
  }
 ],
 "metadata": {
  "anaconda-cloud": {},
  "kernelspec": {
   "display_name": "Python [Root]",
   "language": "python",
   "name": "Python [Root]"
  },
  "language_info": {
   "codemirror_mode": {
    "name": "ipython",
    "version": 2
   },
   "file_extension": ".py",
   "mimetype": "text/x-python",
   "name": "python",
   "nbconvert_exporter": "python",
   "pygments_lexer": "ipython2",
   "version": "2.7.12"
  }
 },
 "nbformat": 4,
 "nbformat_minor": 0
}
